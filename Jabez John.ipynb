{
 "cells": [
  {
   "cell_type": "markdown",
   "id": "7f3c8e4e",
   "metadata": {},
   "source": [
    "write a program that prints the interger from 1 to 100. But for multiple of of three print \"Fizz\" instead of the number, and for multiple of five, print \"buzz\". for numbers that are both multiples of three and five print \"FizzBuzz\"."
   ]
  },
  {
   "cell_type": "code",
   "execution_count": null,
   "id": "4b424d03",
   "metadata": {},
   "outputs": [],
   "source": [
    "num = 0\n",
    "for num in range(1, 101):\n",
    "    if num % 3 == 0 and num % 5 == 0:\n",
    "        print(\"FizzBuzz\")\n",
    "    elif num % 5 == 0:\n",
    "        print(\"Buzz\")\n",
    "    elif num  % 3 == 0:\n",
    "        print(\"Fizz\")\n",
    "    else:\n",
    "        print(num)"
   ]
  },
  {
   "cell_type": "markdown",
   "id": "1f3e9c81",
   "metadata": {},
   "source": [
    "write a script/code that will prompt a teacher to input a score for 10 students. After the loop, print the total (score), all scores and minimum score out of the 10 scores the teacher inputed.  "
   ]
  },
  {
   "cell_type": "code",
   "execution_count": null,
   "id": "d54051fb",
   "metadata": {},
   "outputs": [],
   "source": [
    "# creating variables for the students\n",
    "total_score = 0\n",
    "student_scores = []\n",
    "#for loop to get total score\n",
    "for stud in range(1, 11):\n",
    "    score = int(input(f\"Enter score for student {stud}: \"))\n",
    "    student_scores.append(score)\n",
    "    total_score += score\n",
    "    \n",
    "print(f\"\\nTotal score: {total_score}\")\n",
    "print(f\"All scores: {student_scores}\")\n",
    "\n",
    "# code to show minimum score\n",
    "min_score = min(scores)\n",
    "print(f\"Minimum score: {min_score}\")"
   ]
  },
  {
   "cell_type": "code",
   "execution_count": null,
   "id": "a5c16d95",
   "metadata": {},
   "outputs": [],
   "source": []
  }
 ],
 "metadata": {
  "kernelspec": {
   "display_name": "Python 3 (ipykernel)",
   "language": "python",
   "name": "python3"
  },
  "language_info": {
   "codemirror_mode": {
    "name": "ipython",
    "version": 3
   },
   "file_extension": ".py",
   "mimetype": "text/x-python",
   "name": "python",
   "nbconvert_exporter": "python",
   "pygments_lexer": "ipython3",
   "version": "3.9.12"
  }
 },
 "nbformat": 4,
 "nbformat_minor": 5
}
